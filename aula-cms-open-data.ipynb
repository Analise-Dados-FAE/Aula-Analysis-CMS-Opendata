{
 "cells": [
  {
   "cell_type": "markdown",
   "metadata": {},
   "source": [
    "# Physics Analysis using CMS Opendata\n",
    "\n",
    "1. Using the CSV format in Jupyter\n",
    "    * Reading the CSV file\n",
    "    * Observing and selecting \n",
    "\n",
    "\n",
    "2. Extracting data and saving it to a new file \n",
    "\n",
    "\n",
    "3. Adding column to a DataFrame\n",
    " * Performing the calculation of the invariant mass\n",
    "    \n",
    "4. Statistics with the CMS Open Data\n",
    "    * Mean\n",
    "    * Variance\n",
    "    * Standard deviation\n",
    "    \n",
    "5. Selecting the amount of data\n",
    "    * Evolving of the histogram when the amount of data increases\n",
    "\n",
    "6. Plotting the invariant mass histogram\n",
    "    * Plotting the histogram without the weights\n",
    "    * Plotting the histogram with weights\n",
    "    \n",
    "7. The effect of the pseudorapidity $\\eta$ to the resolution of the CMS detector\n",
    "    * Pseudorapidity\n",
    "    * The effect of pseudorapidity to the resolution of the measurement\n",
    "\n",
    "8. Exercises"
   ]
  },
  {
   "cell_type": "markdown",
   "metadata": {},
   "source": [
    "# Using the CSV format in Jupyter"
   ]
  },
  {
   "cell_type": "markdown",
   "metadata": {},
   "source": [
    "The data collected by the CMS detector can be handled in many different file formats. One easy way is to handle the data in CSV files (comma-separated values). A CSV file is basically a regular text file which includes values separated by commas and lines."
   ]
  },
  {
   "cell_type": "markdown",
   "metadata": {},
   "source": [
    "### Reading the CSV file\n"
   ]
  },
  {
   "cell_type": "markdown",
   "metadata": {},
   "source": [
    "CSV files can be read for example with the function `read_csv( )` of the pandas module. Let's use the data collected by the CMS detector in 2011 [1]. \n",
    "\n",
    "[1] CMS collaboration (2016). DoubleMu primary dataset in AOD format from RunA of 2011 (/DoubleMu/Run2011A-12Oct2013-v1/AOD). CERN Open Data Portal. DOI: 10.7483/OPENDATA.CMS.RZ34.QR6N. "
   ]
  },
  {
   "cell_type": "markdown",
   "metadata": {},
   "source": [
    "To install pandas via conda: `conda install -c anaconda pandas` or install a package only in the currenty kernel:\n",
    "\n",
    "```\n",
    "# Install a conda package in the current Jupyter kernel\n",
    "import sys\n",
    "!conda install --yes --prefix {sys.prefix} pandas\n",
    "```"
   ]
  },
  {
   "cell_type": "code",
   "execution_count": 3,
   "metadata": {},
   "outputs": [
    {
     "name": "stdout",
     "output_type": "stream",
     "text": [
      "The file has 475465 rows.\n"
     ]
    }
   ],
   "source": [
    "import pandas as pd\n",
    "import matplotlib.pyplot as plt\n",
    "\n",
    "# Jupyter Notebook uses \"magic functions\". With this function it is possible to plot\n",
    "# the histogram straight to notebook.\n",
    "%matplotlib inline\n",
    "\n",
    "pd.set_option('display.max_columns', None)\n",
    "\n",
    "dataset = pd.read_csv('Data/DoubleMuRun2011A.csv')\n",
    "print(\"The file has %d rows.\"% len(dataset))"
   ]
  },
  {
   "cell_type": "markdown",
   "metadata": {},
   "source": [
    "We can check what kind of information the file we read contains. Let's use the command `head( )` of the **pandas** module which will print the first five lines of the DataFrame variable written before the command ([pandas documentation](http://pandas.pydata.org/pandas-docs/stable/generated/pandas.DataFrame.head.html))."
   ]
  },
  {
   "cell_type": "code",
   "execution_count": 4,
   "metadata": {},
   "outputs": [
    {
     "data": {
      "text/html": [
       "<div>\n",
       "<style scoped>\n",
       "    .dataframe tbody tr th:only-of-type {\n",
       "        vertical-align: middle;\n",
       "    }\n",
       "\n",
       "    .dataframe tbody tr th {\n",
       "        vertical-align: top;\n",
       "    }\n",
       "\n",
       "    .dataframe thead th {\n",
       "        text-align: right;\n",
       "    }\n",
       "</style>\n",
       "<table border=\"1\" class=\"dataframe\">\n",
       "  <thead>\n",
       "    <tr style=\"text-align: right;\">\n",
       "      <th></th>\n",
       "      <th>Run</th>\n",
       "      <th>Event</th>\n",
       "      <th>Type1</th>\n",
       "      <th>E1</th>\n",
       "      <th>px1</th>\n",
       "      <th>py1</th>\n",
       "      <th>pz1</th>\n",
       "      <th>pt1</th>\n",
       "      <th>eta1</th>\n",
       "      <th>phi1</th>\n",
       "      <th>Q1</th>\n",
       "      <th>Type2</th>\n",
       "      <th>E2</th>\n",
       "      <th>px2</th>\n",
       "      <th>py2</th>\n",
       "      <th>pz2</th>\n",
       "      <th>pt2</th>\n",
       "      <th>eta2</th>\n",
       "      <th>phi2</th>\n",
       "      <th>Q2</th>\n",
       "      <th>M</th>\n",
       "    </tr>\n",
       "  </thead>\n",
       "  <tbody>\n",
       "    <tr>\n",
       "      <th>0</th>\n",
       "      <td>165617</td>\n",
       "      <td>74601703</td>\n",
       "      <td>G</td>\n",
       "      <td>9.69873</td>\n",
       "      <td>-9.510430</td>\n",
       "      <td>0.366205</td>\n",
       "      <td>1.86329</td>\n",
       "      <td>9.51748</td>\n",
       "      <td>0.194546</td>\n",
       "      <td>3.10311</td>\n",
       "      <td>-1</td>\n",
       "      <td>G</td>\n",
       "      <td>9.76332</td>\n",
       "      <td>7.327710</td>\n",
       "      <td>-1.152370</td>\n",
       "      <td>6.34728</td>\n",
       "      <td>7.41776</td>\n",
       "      <td>0.775564</td>\n",
       "      <td>-0.155984</td>\n",
       "      <td>1</td>\n",
       "      <td>17.49220</td>\n",
       "    </tr>\n",
       "    <tr>\n",
       "      <th>1</th>\n",
       "      <td>165617</td>\n",
       "      <td>75100943</td>\n",
       "      <td>G</td>\n",
       "      <td>6.20385</td>\n",
       "      <td>-4.266610</td>\n",
       "      <td>0.456545</td>\n",
       "      <td>-4.47930</td>\n",
       "      <td>4.29097</td>\n",
       "      <td>-0.912070</td>\n",
       "      <td>3.03499</td>\n",
       "      <td>-1</td>\n",
       "      <td>G</td>\n",
       "      <td>9.66898</td>\n",
       "      <td>7.273970</td>\n",
       "      <td>-2.821120</td>\n",
       "      <td>-5.71040</td>\n",
       "      <td>7.80188</td>\n",
       "      <td>-0.678625</td>\n",
       "      <td>-0.369977</td>\n",
       "      <td>1</td>\n",
       "      <td>11.55340</td>\n",
       "    </tr>\n",
       "    <tr>\n",
       "      <th>2</th>\n",
       "      <td>165617</td>\n",
       "      <td>75587682</td>\n",
       "      <td>G</td>\n",
       "      <td>19.28920</td>\n",
       "      <td>-4.212080</td>\n",
       "      <td>-0.651623</td>\n",
       "      <td>18.81210</td>\n",
       "      <td>4.26219</td>\n",
       "      <td>2.190460</td>\n",
       "      <td>-2.98811</td>\n",
       "      <td>-1</td>\n",
       "      <td>G</td>\n",
       "      <td>9.82439</td>\n",
       "      <td>4.343940</td>\n",
       "      <td>-0.473505</td>\n",
       "      <td>8.79849</td>\n",
       "      <td>4.36967</td>\n",
       "      <td>1.449670</td>\n",
       "      <td>-0.108575</td>\n",
       "      <td>1</td>\n",
       "      <td>9.16361</td>\n",
       "    </tr>\n",
       "    <tr>\n",
       "      <th>3</th>\n",
       "      <td>165617</td>\n",
       "      <td>75660978</td>\n",
       "      <td>G</td>\n",
       "      <td>7.04268</td>\n",
       "      <td>-6.326780</td>\n",
       "      <td>-0.268545</td>\n",
       "      <td>3.08025</td>\n",
       "      <td>6.33248</td>\n",
       "      <td>0.469033</td>\n",
       "      <td>-3.09917</td>\n",
       "      <td>-1</td>\n",
       "      <td>G</td>\n",
       "      <td>5.58571</td>\n",
       "      <td>4.474760</td>\n",
       "      <td>0.848935</td>\n",
       "      <td>-3.23185</td>\n",
       "      <td>4.55458</td>\n",
       "      <td>-0.660499</td>\n",
       "      <td>0.187488</td>\n",
       "      <td>1</td>\n",
       "      <td>12.47740</td>\n",
       "    </tr>\n",
       "    <tr>\n",
       "      <th>4</th>\n",
       "      <td>165617</td>\n",
       "      <td>75947690</td>\n",
       "      <td>G</td>\n",
       "      <td>7.27507</td>\n",
       "      <td>0.102966</td>\n",
       "      <td>-5.533080</td>\n",
       "      <td>-4.72122</td>\n",
       "      <td>5.53403</td>\n",
       "      <td>-0.773616</td>\n",
       "      <td>-1.55219</td>\n",
       "      <td>-1</td>\n",
       "      <td>G</td>\n",
       "      <td>7.31811</td>\n",
       "      <td>-0.398831</td>\n",
       "      <td>6.940810</td>\n",
       "      <td>2.28247</td>\n",
       "      <td>6.95226</td>\n",
       "      <td>0.322677</td>\n",
       "      <td>1.628190</td>\n",
       "      <td>1</td>\n",
       "      <td>14.31590</td>\n",
       "    </tr>\n",
       "  </tbody>\n",
       "</table>\n",
       "</div>"
      ],
      "text/plain": [
       "      Run     Event Type1        E1       px1       py1       pz1      pt1  \\\n",
       "0  165617  74601703     G   9.69873 -9.510430  0.366205   1.86329  9.51748   \n",
       "1  165617  75100943     G   6.20385 -4.266610  0.456545  -4.47930  4.29097   \n",
       "2  165617  75587682     G  19.28920 -4.212080 -0.651623  18.81210  4.26219   \n",
       "3  165617  75660978     G   7.04268 -6.326780 -0.268545   3.08025  6.33248   \n",
       "4  165617  75947690     G   7.27507  0.102966 -5.533080  -4.72122  5.53403   \n",
       "\n",
       "       eta1     phi1  Q1 Type2       E2       px2       py2      pz2      pt2  \\\n",
       "0  0.194546  3.10311  -1     G  9.76332  7.327710 -1.152370  6.34728  7.41776   \n",
       "1 -0.912070  3.03499  -1     G  9.66898  7.273970 -2.821120 -5.71040  7.80188   \n",
       "2  2.190460 -2.98811  -1     G  9.82439  4.343940 -0.473505  8.79849  4.36967   \n",
       "3  0.469033 -3.09917  -1     G  5.58571  4.474760  0.848935 -3.23185  4.55458   \n",
       "4 -0.773616 -1.55219  -1     G  7.31811 -0.398831  6.940810  2.28247  6.95226   \n",
       "\n",
       "       eta2      phi2  Q2         M  \n",
       "0  0.775564 -0.155984   1  17.49220  \n",
       "1 -0.678625 -0.369977   1  11.55340  \n",
       "2  1.449670 -0.108575   1   9.16361  \n",
       "3 -0.660499  0.187488   1  12.47740  \n",
       "4  0.322677  1.628190   1  14.31590  "
      ]
     },
     "execution_count": 4,
     "metadata": {},
     "output_type": "execute_result"
    }
   ],
   "source": [
    "dataset.head()"
   ]
  },
  {
   "cell_type": "markdown",
   "metadata": {},
   "source": [
    "Notice that there are more lines in the variable `dataset` than the five printed. We can check the number of the lines with the function `len( )` which will return the length of the variable given in the brackets."
   ]
  },
  {
   "cell_type": "code",
   "execution_count": 5,
   "metadata": {},
   "outputs": [
    {
     "data": {
      "text/plain": [
       "475465"
      ]
     },
     "execution_count": 5,
     "metadata": {},
     "output_type": "execute_result"
    }
   ],
   "source": [
    "len(dataset)"
   ]
  },
  {
   "cell_type": "markdown",
   "metadata": {},
   "source": [
    "### Observing and selecting the values\n"
   ]
  },
  {
   "cell_type": "markdown",
   "metadata": {},
   "source": [
    "From the print above, we can see that the content of the file has been saved into a table (DataFrame tabular data structure). Each line of the table represent a different collision event and the columns include different saved values for the event. Some of the values are measured by the detector and some have been calculated from the measured values.\n",
    "\n",
    "Values in the table can be accessed with the pandas module. For example the data we are using contains the charges of two muons marked as `Q1` and `Q2`. We can select certain columns from a table e.g. the charges of the first muon for all of the events by referring to the column name:"
   ]
  },
  {
   "cell_type": "code",
   "execution_count": 6,
   "metadata": {},
   "outputs": [
    {
     "data": {
      "text/plain": [
       "0        -1\n",
       "1        -1\n",
       "2        -1\n",
       "3        -1\n",
       "4        -1\n",
       "         ..\n",
       "475460    1\n",
       "475461    1\n",
       "475462   -1\n",
       "475463   -1\n",
       "475464   -1\n",
       "Name: Q1, Length: 475465, dtype: int64"
      ]
     },
     "execution_count": 6,
     "metadata": {},
     "output_type": "execute_result"
    }
   ],
   "source": [
    "dataset['Q1']"
   ]
  },
  {
   "cell_type": "markdown",
   "metadata": {},
   "source": [
    "Now the code printed the values of the column `Q1` of the variable dataset. Of course all of the values will not be printed (there are over of 470000 of them) and on the last line of the print you can see the name, lengt and tyoe of the information printed.\n",
    "\n",
    "The numbers on the left tell the index of the line and the numbers on the right are the values of the charges. By replacing the `Q1` in the code it is possible to select any of the column from the dataset (e.g. `pt1`, `eta1`, `phi2`, ...).\n",
    "\n",
    "If for example only the ten first values of the charges are wanted to be selected, it can be done by using the `.loc` method. In the method the brackets first include the indexes of the lines wanted to be selected (here lines 0--10) and after those the name of the column from where the lines will be selected (here `Q1`). "
   ]
  },
  {
   "cell_type": "code",
   "execution_count": 7,
   "metadata": {},
   "outputs": [
    {
     "data": {
      "text/plain": [
       "0    -1\n",
       "1    -1\n",
       "2    -1\n",
       "3    -1\n",
       "4    -1\n",
       "5    -1\n",
       "6    -1\n",
       "7     1\n",
       "8    -1\n",
       "9    -1\n",
       "10    1\n",
       "Name: Q1, dtype: int64"
      ]
     },
     "execution_count": 7,
     "metadata": {},
     "output_type": "execute_result"
    }
   ],
   "source": [
    "dataset.loc[0:10, 'Q1']\n",
    "# If you use Python 2, use\n",
    "# dataset.ix[0:10, 'Q1']"
   ]
  },
  {
   "cell_type": "markdown",
   "metadata": {},
   "source": [
    "Also individual values can be picked. Let's say we want to see that charges from indices 0,1,5 and 10. This can be done with"
   ]
  },
  {
   "cell_type": "code",
   "execution_count": 8,
   "metadata": {},
   "outputs": [
    {
     "data": {
      "text/plain": [
       "0    -1\n",
       "1    -1\n",
       "5    -1\n",
       "10    1\n",
       "Name: Q1, dtype: int64"
      ]
     },
     "execution_count": 8,
     "metadata": {},
     "output_type": "execute_result"
    }
   ],
   "source": [
    "dataset.loc[[0,1,5,10],'Q1']\n",
    "# If you use Python 2, use\n",
    "# dataset.ix[[0,1,5,10],'Q1']"
   ]
  },
  {
   "cell_type": "markdown",
   "metadata": {},
   "source": [
    "### Other notes\n",
    "\n",
    "- There are also other options for selecting the values. For example this [Stack Overflow link](http://stackoverflow.com/questions/31593201/pandas-iloc-vs-ix-vs-loc-explanation) includes other possibilities of the _pandas_ module. CSV files can also be read with other modules or libraries.\n",
    "- Note that different CSV files include different data depending on from which kind of collision events the file has been created. You can always check the content of the file by opening it in the Jupyter or in a text editor."
   ]
  },
  {
   "cell_type": "markdown",
   "metadata": {},
   "source": [
    "# Extracting data and saving it to a new file\n"
   ]
  },
  {
   "cell_type": "markdown",
   "metadata": {},
   "source": [
    "Let's walks you through how to read csv-data, select certain data using selection rules and saving selected data into a new file."
   ]
  },
  {
   "cell_type": "markdown",
   "metadata": {},
   "source": [
    "Plot a histogram of the invariant masses using the whole dataset."
   ]
  },
  {
   "cell_type": "code",
   "execution_count": 9,
   "metadata": {},
   "outputs": [
    {
     "data": {
      "image/png": "[encoded data removed]",
      "text/plain": [
       "<Figure size 432x288 with 1 Axes>"
      ]
     },
     "metadata": {
      "needs_background": "light"
     },
     "output_type": "display_data"
    }
   ],
   "source": [
    "plt.hist(dataset['M'], bins=500, range=(0,110))\n",
    "\n",
    "axes = plt.gca()\n",
    "axes.set_ylim([0,15000])\n",
    "\n",
    "# Name the axis and set a title\n",
    "plt.xlabel('Invariant mass [GeV]')\n",
    "plt.ylabel('Number of events')\n",
    "plt.title('Histogram of invariant masses of two muons\\n') # \\n creates a new line for making the title look better\n",
    "\n",
    "# Show the plot.\n",
    "plt.show()"
   ]
  },
  {
   "cell_type": "markdown",
   "metadata": {},
   "source": [
    "Histogram shows multiple peaks from which we are interested in the one on the right. Let's choose the rows from the original data that hae invariant mass values between `70 < M < 110` and save these into variable `peakdata`. We can also check how many rows of data fill these conditions."
   ]
  },
  {
   "cell_type": "code",
   "execution_count": 10,
   "metadata": {},
   "outputs": [
    {
     "data": {
      "text/plain": [
       "33177"
      ]
     },
     "execution_count": 10,
     "metadata": {},
     "output_type": "execute_result"
    }
   ],
   "source": [
    "peakdata = dataset[(dataset.M>70) & (dataset.M<110)] #Z\n",
    "len(peakdata)"
   ]
  },
  {
   "cell_type": "markdown",
   "metadata": {},
   "source": [
    "We can now easily plot a histogram for invariant masses of the selected data."
   ]
  },
  {
   "cell_type": "code",
   "execution_count": 11,
   "metadata": {},
   "outputs": [
    {
     "data": {
      "image/png": "[encoded data removed]",
      "text/plain": [
       "<Figure size 432x288 with 1 Axes>"
      ]
     },
     "metadata": {
      "needs_background": "light"
     },
     "output_type": "display_data"
    }
   ],
   "source": [
    "inv_mass = peakdata['M']\n",
    "plt.hist(inv_mass, bins=50)\n",
    "plt.show()"
   ]
  },
  {
   "cell_type": "markdown",
   "metadata": {},
   "source": [
    "The selected conditions for data seem applicable but let's check the minimum and maximum values for invariant mass in our selected data. This way we can make sure that our conditions hold."
   ]
  },
  {
   "cell_type": "code",
   "execution_count": 12,
   "metadata": {},
   "outputs": [
    {
     "name": "stdout",
     "output_type": "stream",
     "text": [
      "The smallest value of invariant mass is 70.006900 and the greatest is 109.999000 in selected data.\n"
     ]
    }
   ],
   "source": [
    "minimum = min(peakdata['M'])\n",
    "maximum = max(peakdata['M'])\n",
    "print(\"The smallest value of invariant mass is %f and the greatest is %f in selected data.\" %(minimum,maximum))"
   ]
  },
  {
   "cell_type": "markdown",
   "metadata": {},
   "source": [
    "We see that our conditions hold so let's save the data in `peakdata` into a csv-file and name it `peak.csv`. We can leave out the original indices but it's good to keep the original column titels. The created file will be saved in the same folder with the notebook."
   ]
  },
  {
   "cell_type": "code",
   "execution_count": 13,
   "metadata": {},
   "outputs": [],
   "source": [
    "peakdata.to_csv('peak.csv',index=False,header=True)"
   ]
  },
  {
   "cell_type": "markdown",
   "metadata": {},
   "source": [
    "We can make sure that we managed to save the data we wanted by reading the file `peak.csv` and printing the first five rows of it."
   ]
  },
  {
   "cell_type": "code",
   "execution_count": 14,
   "metadata": {},
   "outputs": [
    {
     "data": {
      "text/html": [
       "<div>\n",
       "<style scoped>\n",
       "    .dataframe tbody tr th:only-of-type {\n",
       "        vertical-align: middle;\n",
       "    }\n",
       "\n",
       "    .dataframe tbody tr th {\n",
       "        vertical-align: top;\n",
       "    }\n",
       "\n",
       "    .dataframe thead th {\n",
       "        text-align: right;\n",
       "    }\n",
       "</style>\n",
       "<table border=\"1\" class=\"dataframe\">\n",
       "  <thead>\n",
       "    <tr style=\"text-align: right;\">\n",
       "      <th></th>\n",
       "      <th>Run</th>\n",
       "      <th>Event</th>\n",
       "      <th>Type1</th>\n",
       "      <th>E1</th>\n",
       "      <th>px1</th>\n",
       "      <th>py1</th>\n",
       "      <th>pz1</th>\n",
       "      <th>pt1</th>\n",
       "      <th>eta1</th>\n",
       "      <th>phi1</th>\n",
       "      <th>Q1</th>\n",
       "      <th>Type2</th>\n",
       "      <th>E2</th>\n",
       "      <th>px2</th>\n",
       "      <th>py2</th>\n",
       "      <th>pz2</th>\n",
       "      <th>pt2</th>\n",
       "      <th>eta2</th>\n",
       "      <th>phi2</th>\n",
       "      <th>Q2</th>\n",
       "      <th>M</th>\n",
       "    </tr>\n",
       "  </thead>\n",
       "  <tbody>\n",
       "    <tr>\n",
       "      <th>0</th>\n",
       "      <td>165617</td>\n",
       "      <td>74969122</td>\n",
       "      <td>G</td>\n",
       "      <td>59.9226</td>\n",
       "      <td>-46.15160</td>\n",
       "      <td>29.4115</td>\n",
       "      <td>-24.4070</td>\n",
       "      <td>54.7266</td>\n",
       "      <td>-0.432382</td>\n",
       "      <td>2.574210</td>\n",
       "      <td>1</td>\n",
       "      <td>G</td>\n",
       "      <td>52.4465</td>\n",
       "      <td>30.10970</td>\n",
       "      <td>-16.39890</td>\n",
       "      <td>-39.68760</td>\n",
       "      <td>34.2859</td>\n",
       "      <td>-0.988511</td>\n",
       "      <td>-0.498717</td>\n",
       "      <td>-1</td>\n",
       "      <td>89.9557</td>\n",
       "    </tr>\n",
       "    <tr>\n",
       "      <th>1</th>\n",
       "      <td>165617</td>\n",
       "      <td>75138253</td>\n",
       "      <td>G</td>\n",
       "      <td>97.1011</td>\n",
       "      <td>-23.61440</td>\n",
       "      <td>6.6660</td>\n",
       "      <td>-93.9497</td>\n",
       "      <td>24.5372</td>\n",
       "      <td>-2.052350</td>\n",
       "      <td>2.866470</td>\n",
       "      <td>-1</td>\n",
       "      <td>G</td>\n",
       "      <td>30.5992</td>\n",
       "      <td>-11.61340</td>\n",
       "      <td>-25.98480</td>\n",
       "      <td>11.23470</td>\n",
       "      <td>28.4619</td>\n",
       "      <td>0.385137</td>\n",
       "      <td>-1.991090</td>\n",
       "      <td>1</td>\n",
       "      <td>88.6081</td>\n",
       "    </tr>\n",
       "    <tr>\n",
       "      <th>2</th>\n",
       "      <td>165617</td>\n",
       "      <td>75887636</td>\n",
       "      <td>G</td>\n",
       "      <td>152.9720</td>\n",
       "      <td>7.46565</td>\n",
       "      <td>-30.7098</td>\n",
       "      <td>-149.6710</td>\n",
       "      <td>31.6042</td>\n",
       "      <td>-2.259260</td>\n",
       "      <td>-1.332320</td>\n",
       "      <td>-1</td>\n",
       "      <td>G</td>\n",
       "      <td>33.5835</td>\n",
       "      <td>-9.28778</td>\n",
       "      <td>28.74570</td>\n",
       "      <td>-14.67190</td>\n",
       "      <td>30.2089</td>\n",
       "      <td>-0.468368</td>\n",
       "      <td>1.883310</td>\n",
       "      <td>1</td>\n",
       "      <td>88.2438</td>\n",
       "    </tr>\n",
       "    <tr>\n",
       "      <th>3</th>\n",
       "      <td>165617</td>\n",
       "      <td>75833588</td>\n",
       "      <td>G</td>\n",
       "      <td>181.8770</td>\n",
       "      <td>44.14270</td>\n",
       "      <td>-14.9498</td>\n",
       "      <td>175.8040</td>\n",
       "      <td>46.6055</td>\n",
       "      <td>2.037920</td>\n",
       "      <td>-0.326545</td>\n",
       "      <td>1</td>\n",
       "      <td>G</td>\n",
       "      <td>170.0210</td>\n",
       "      <td>-34.63010</td>\n",
       "      <td>12.32480</td>\n",
       "      <td>166.00000</td>\n",
       "      <td>36.7579</td>\n",
       "      <td>2.212820</td>\n",
       "      <td>2.799670</td>\n",
       "      <td>-1</td>\n",
       "      <td>83.0943</td>\n",
       "    </tr>\n",
       "    <tr>\n",
       "      <th>4</th>\n",
       "      <td>165617</td>\n",
       "      <td>75779415</td>\n",
       "      <td>G</td>\n",
       "      <td>50.2440</td>\n",
       "      <td>37.80720</td>\n",
       "      <td>-12.2044</td>\n",
       "      <td>-30.7590</td>\n",
       "      <td>39.7283</td>\n",
       "      <td>-0.712422</td>\n",
       "      <td>-0.312246</td>\n",
       "      <td>1</td>\n",
       "      <td>G</td>\n",
       "      <td>49.2396</td>\n",
       "      <td>-47.60640</td>\n",
       "      <td>8.23376</td>\n",
       "      <td>-9.50613</td>\n",
       "      <td>48.3132</td>\n",
       "      <td>-0.195513</td>\n",
       "      <td>2.970330</td>\n",
       "      <td>-1</td>\n",
       "      <td>90.3544</td>\n",
       "    </tr>\n",
       "  </tbody>\n",
       "</table>\n",
       "</div>"
      ],
      "text/plain": [
       "      Run     Event Type1        E1       px1      py1       pz1      pt1  \\\n",
       "0  165617  74969122     G   59.9226 -46.15160  29.4115  -24.4070  54.7266   \n",
       "1  165617  75138253     G   97.1011 -23.61440   6.6660  -93.9497  24.5372   \n",
       "2  165617  75887636     G  152.9720   7.46565 -30.7098 -149.6710  31.6042   \n",
       "3  165617  75833588     G  181.8770  44.14270 -14.9498  175.8040  46.6055   \n",
       "4  165617  75779415     G   50.2440  37.80720 -12.2044  -30.7590  39.7283   \n",
       "\n",
       "       eta1      phi1  Q1 Type2        E2       px2       py2        pz2  \\\n",
       "0 -0.432382  2.574210   1     G   52.4465  30.10970 -16.39890  -39.68760   \n",
       "1 -2.052350  2.866470  -1     G   30.5992 -11.61340 -25.98480   11.23470   \n",
       "2 -2.259260 -1.332320  -1     G   33.5835  -9.28778  28.74570  -14.67190   \n",
       "3  2.037920 -0.326545   1     G  170.0210 -34.63010  12.32480  166.00000   \n",
       "4 -0.712422 -0.312246   1     G   49.2396 -47.60640   8.23376   -9.50613   \n",
       "\n",
       "       pt2      eta2      phi2  Q2        M  \n",
       "0  34.2859 -0.988511 -0.498717  -1  89.9557  \n",
       "1  28.4619  0.385137 -1.991090   1  88.6081  \n",
       "2  30.2089 -0.468368  1.883310   1  88.2438  \n",
       "3  36.7579  2.212820  2.799670  -1  83.0943  \n",
       "4  48.3132 -0.195513  2.970330  -1  90.3544  "
      ]
     },
     "execution_count": 14,
     "metadata": {},
     "output_type": "execute_result"
    }
   ],
   "source": [
    "test = pd.read_csv('peak.csv')\n",
    "test.head()"
   ]
  },
  {
   "cell_type": "markdown",
   "metadata": {},
   "source": [
    "# Adding column to a DataFrame\n"
   ]
  },
  {
   "cell_type": "markdown",
   "metadata": {},
   "source": [
    "This example demonstrates how to import a csv.-file, calculate using its values and how to add calculated values to the original table. In this example we calculate the invariant masses for different events."
   ]
  },
  {
   "cell_type": "markdown",
   "metadata": {},
   "source": [
    "We need to import packages **numpy** in order to make calculations."
   ]
  },
  {
   "cell_type": "code",
   "execution_count": 15,
   "metadata": {},
   "outputs": [],
   "source": [
    "import numpy as np"
   ]
  },
  {
   "cell_type": "markdown",
   "metadata": {},
   "source": [
    "and also the type of the variable. We need to know the type since we want to combine our calcutations with this variable."
   ]
  },
  {
   "cell_type": "code",
   "execution_count": 16,
   "metadata": {},
   "outputs": [
    {
     "data": {
      "text/plain": [
       "pandas.core.frame.DataFrame"
      ]
     },
     "execution_count": 16,
     "metadata": {},
     "output_type": "execute_result"
    }
   ],
   "source": [
    "type(dataset)"
   ]
  },
  {
   "cell_type": "markdown",
   "metadata": {},
   "source": [
    "### Performing the calculation of the invariant mass"
   ]
  },
  {
   "cell_type": "markdown",
   "metadata": {},
   "source": [
    "Let's use the following expression for the invariant mass $M$ in the calculation\n",
    "\n",
    "$$M = \\sqrt{2p_{T1}p_{T2}(\\cosh(\\eta_1-\\eta_2)-\\cos(\\phi_1-\\phi_2))}.$$\n",
    "and use **numpy (np)** for performing the calculation."
   ]
  },
  {
   "cell_type": "code",
   "execution_count": 17,
   "metadata": {},
   "outputs": [],
   "source": [
    "my_invariant_mass = np.sqrt(2*dataset.pt1*dataset.pt2*(np.cosh(dataset.eta1-dataset.eta2) - np.cos(dataset.phi1-dataset.phi2)))"
   ]
  },
  {
   "cell_type": "markdown",
   "metadata": {},
   "source": [
    "After the calculation we can check which values were saved in the variable `my_invariant_mass` by printing the content of the variable:"
   ]
  },
  {
   "cell_type": "code",
   "execution_count": 18,
   "metadata": {},
   "outputs": [
    {
     "name": "stdout",
     "output_type": "stream",
     "text": [
      "0         17.490875\n",
      "1         11.551382\n",
      "2          9.160909\n",
      "3         12.475632\n",
      "4         14.314303\n",
      "            ...    \n",
      "475460    39.723786\n",
      "475461    15.306716\n",
      "475462    28.730132\n",
      "475463    23.617769\n",
      "475464    23.824477\n",
      "Length: 475465, dtype: float64\n"
     ]
    }
   ],
   "source": [
    "print(my_invariant_mass)"
   ]
  },
  {
   "cell_type": "markdown",
   "metadata": {},
   "source": [
    "Let's add the column of invariant masses to the original `dataset` which is the type DataFrame. First we need to know the type of `my_invariant_mass`"
   ]
  },
  {
   "cell_type": "code",
   "execution_count": 19,
   "metadata": {},
   "outputs": [
    {
     "data": {
      "text/plain": [
       "pandas.core.series.Series"
      ]
     },
     "execution_count": 19,
     "metadata": {},
     "output_type": "execute_result"
    }
   ],
   "source": [
    "type(my_invariant_mass)"
   ]
  },
  {
   "cell_type": "markdown",
   "metadata": {},
   "source": [
    "Since `my_invariant_mass` is a **Series**, we need to convert it into a DataFrame. Let's name the conversion `inv_masses` and give the column a heading `myM`."
   ]
  },
  {
   "cell_type": "code",
   "execution_count": 20,
   "metadata": {},
   "outputs": [],
   "source": [
    "inv_masses = my_invariant_mass.to_frame('myM')"
   ]
  },
  {
   "cell_type": "markdown",
   "metadata": {},
   "source": [
    "Now we can combine `dataset` with `inv_masses` using the command `merge`. Let's save it into a variable `all_data`."
   ]
  },
  {
   "cell_type": "code",
   "execution_count": 21,
   "metadata": {},
   "outputs": [
    {
     "data": {
      "text/html": [
       "<div>\n",
       "<style scoped>\n",
       "    .dataframe tbody tr th:only-of-type {\n",
       "        vertical-align: middle;\n",
       "    }\n",
       "\n",
       "    .dataframe tbody tr th {\n",
       "        vertical-align: top;\n",
       "    }\n",
       "\n",
       "    .dataframe thead th {\n",
       "        text-align: right;\n",
       "    }\n",
       "</style>\n",
       "<table border=\"1\" class=\"dataframe\">\n",
       "  <thead>\n",
       "    <tr style=\"text-align: right;\">\n",
       "      <th></th>\n",
       "      <th>Run</th>\n",
       "      <th>Event</th>\n",
       "      <th>Type1</th>\n",
       "      <th>E1</th>\n",
       "      <th>px1</th>\n",
       "      <th>py1</th>\n",
       "      <th>pz1</th>\n",
       "      <th>pt1</th>\n",
       "      <th>eta1</th>\n",
       "      <th>phi1</th>\n",
       "      <th>Q1</th>\n",
       "      <th>Type2</th>\n",
       "      <th>E2</th>\n",
       "      <th>px2</th>\n",
       "      <th>py2</th>\n",
       "      <th>pz2</th>\n",
       "      <th>pt2</th>\n",
       "      <th>eta2</th>\n",
       "      <th>phi2</th>\n",
       "      <th>Q2</th>\n",
       "      <th>M</th>\n",
       "      <th>myM</th>\n",
       "    </tr>\n",
       "  </thead>\n",
       "  <tbody>\n",
       "    <tr>\n",
       "      <th>0</th>\n",
       "      <td>165617</td>\n",
       "      <td>74601703</td>\n",
       "      <td>G</td>\n",
       "      <td>9.69873</td>\n",
       "      <td>-9.510430</td>\n",
       "      <td>0.366205</td>\n",
       "      <td>1.86329</td>\n",
       "      <td>9.51748</td>\n",
       "      <td>0.194546</td>\n",
       "      <td>3.10311</td>\n",
       "      <td>-1</td>\n",
       "      <td>G</td>\n",
       "      <td>9.76332</td>\n",
       "      <td>7.327710</td>\n",
       "      <td>-1.152370</td>\n",
       "      <td>6.34728</td>\n",
       "      <td>7.41776</td>\n",
       "      <td>0.775564</td>\n",
       "      <td>-0.155984</td>\n",
       "      <td>1</td>\n",
       "      <td>17.49220</td>\n",
       "      <td>17.490875</td>\n",
       "    </tr>\n",
       "    <tr>\n",
       "      <th>1</th>\n",
       "      <td>165617</td>\n",
       "      <td>75100943</td>\n",
       "      <td>G</td>\n",
       "      <td>6.20385</td>\n",
       "      <td>-4.266610</td>\n",
       "      <td>0.456545</td>\n",
       "      <td>-4.47930</td>\n",
       "      <td>4.29097</td>\n",
       "      <td>-0.912070</td>\n",
       "      <td>3.03499</td>\n",
       "      <td>-1</td>\n",
       "      <td>G</td>\n",
       "      <td>9.66898</td>\n",
       "      <td>7.273970</td>\n",
       "      <td>-2.821120</td>\n",
       "      <td>-5.71040</td>\n",
       "      <td>7.80188</td>\n",
       "      <td>-0.678625</td>\n",
       "      <td>-0.369977</td>\n",
       "      <td>1</td>\n",
       "      <td>11.55340</td>\n",
       "      <td>11.551382</td>\n",
       "    </tr>\n",
       "    <tr>\n",
       "      <th>2</th>\n",
       "      <td>165617</td>\n",
       "      <td>75587682</td>\n",
       "      <td>G</td>\n",
       "      <td>19.28920</td>\n",
       "      <td>-4.212080</td>\n",
       "      <td>-0.651623</td>\n",
       "      <td>18.81210</td>\n",
       "      <td>4.26219</td>\n",
       "      <td>2.190460</td>\n",
       "      <td>-2.98811</td>\n",
       "      <td>-1</td>\n",
       "      <td>G</td>\n",
       "      <td>9.82439</td>\n",
       "      <td>4.343940</td>\n",
       "      <td>-0.473505</td>\n",
       "      <td>8.79849</td>\n",
       "      <td>4.36967</td>\n",
       "      <td>1.449670</td>\n",
       "      <td>-0.108575</td>\n",
       "      <td>1</td>\n",
       "      <td>9.16361</td>\n",
       "      <td>9.160909</td>\n",
       "    </tr>\n",
       "    <tr>\n",
       "      <th>3</th>\n",
       "      <td>165617</td>\n",
       "      <td>75660978</td>\n",
       "      <td>G</td>\n",
       "      <td>7.04268</td>\n",
       "      <td>-6.326780</td>\n",
       "      <td>-0.268545</td>\n",
       "      <td>3.08025</td>\n",
       "      <td>6.33248</td>\n",
       "      <td>0.469033</td>\n",
       "      <td>-3.09917</td>\n",
       "      <td>-1</td>\n",
       "      <td>G</td>\n",
       "      <td>5.58571</td>\n",
       "      <td>4.474760</td>\n",
       "      <td>0.848935</td>\n",
       "      <td>-3.23185</td>\n",
       "      <td>4.55458</td>\n",
       "      <td>-0.660499</td>\n",
       "      <td>0.187488</td>\n",
       "      <td>1</td>\n",
       "      <td>12.47740</td>\n",
       "      <td>12.475632</td>\n",
       "    </tr>\n",
       "    <tr>\n",
       "      <th>4</th>\n",
       "      <td>165617</td>\n",
       "      <td>75947690</td>\n",
       "      <td>G</td>\n",
       "      <td>7.27507</td>\n",
       "      <td>0.102966</td>\n",
       "      <td>-5.533080</td>\n",
       "      <td>-4.72122</td>\n",
       "      <td>5.53403</td>\n",
       "      <td>-0.773616</td>\n",
       "      <td>-1.55219</td>\n",
       "      <td>-1</td>\n",
       "      <td>G</td>\n",
       "      <td>7.31811</td>\n",
       "      <td>-0.398831</td>\n",
       "      <td>6.940810</td>\n",
       "      <td>2.28247</td>\n",
       "      <td>6.95226</td>\n",
       "      <td>0.322677</td>\n",
       "      <td>1.628190</td>\n",
       "      <td>1</td>\n",
       "      <td>14.31590</td>\n",
       "      <td>14.314303</td>\n",
       "    </tr>\n",
       "  </tbody>\n",
       "</table>\n",
       "</div>"
      ],
      "text/plain": [
       "      Run     Event Type1        E1       px1       py1       pz1      pt1  \\\n",
       "0  165617  74601703     G   9.69873 -9.510430  0.366205   1.86329  9.51748   \n",
       "1  165617  75100943     G   6.20385 -4.266610  0.456545  -4.47930  4.29097   \n",
       "2  165617  75587682     G  19.28920 -4.212080 -0.651623  18.81210  4.26219   \n",
       "3  165617  75660978     G   7.04268 -6.326780 -0.268545   3.08025  6.33248   \n",
       "4  165617  75947690     G   7.27507  0.102966 -5.533080  -4.72122  5.53403   \n",
       "\n",
       "       eta1     phi1  Q1 Type2       E2       px2       py2      pz2      pt2  \\\n",
       "0  0.194546  3.10311  -1     G  9.76332  7.327710 -1.152370  6.34728  7.41776   \n",
       "1 -0.912070  3.03499  -1     G  9.66898  7.273970 -2.821120 -5.71040  7.80188   \n",
       "2  2.190460 -2.98811  -1     G  9.82439  4.343940 -0.473505  8.79849  4.36967   \n",
       "3  0.469033 -3.09917  -1     G  5.58571  4.474760  0.848935 -3.23185  4.55458   \n",
       "4 -0.773616 -1.55219  -1     G  7.31811 -0.398831  6.940810  2.28247  6.95226   \n",
       "\n",
       "       eta2      phi2  Q2         M        myM  \n",
       "0  0.775564 -0.155984   1  17.49220  17.490875  \n",
       "1 -0.678625 -0.369977   1  11.55340  11.551382  \n",
       "2  1.449670 -0.108575   1   9.16361   9.160909  \n",
       "3 -0.660499  0.187488   1  12.47740  12.475632  \n",
       "4  0.322677  1.628190   1  14.31590  14.314303  "
      ]
     },
     "execution_count": 21,
     "metadata": {},
     "output_type": "execute_result"
    }
   ],
   "source": [
    "all_data = dataset.merge(inv_masses, left_index=True, right_index=True)\n",
    "all_data.head()"
   ]
  },
  {
   "cell_type": "markdown",
   "metadata": {},
   "source": [
    "As you can see, the calculated invariant masses are now in the last column with heading `M`."
   ]
  },
  {
   "cell_type": "markdown",
   "metadata": {},
   "source": [
    "# Statistics with the CMS Open Data\n",
    " \n",
    "    \n",
    "With Python it is easy to calculate statistical values for the CMS Open Data. In this notebook we will learn how to calculate the mean, the variance and the standard deviation."
   ]
  },
  {
   "cell_type": "markdown",
   "metadata": {},
   "source": [
    "## Mean $\\bar x$\n",
    "\n",
    "The mean can be easily calculated with the function `mean( )` of the **numpy** module. Let's calculate the mean of the invariant masses of the whole data:"
   ]
  },
  {
   "cell_type": "code",
   "execution_count": 22,
   "metadata": {},
   "outputs": [
    {
     "name": "stdout",
     "output_type": "stream",
     "text": [
      "89.69557585073998\n"
     ]
    }
   ],
   "source": [
    "mean_masses = np.mean(inv_mass)\n",
    "print(mean_masses)"
   ]
  },
  {
   "cell_type": "markdown",
   "metadata": {},
   "source": [
    "## Variance $\\sigma^2$\n",
    "\n",
    "The variance is determined by the equation\n",
    "\n",
    "$$\\sigma^2 = \\frac{\\sum_{i=1}^{n}(x_i-\\bar{x})^2}{n}.$$\n",
    "\n",
    "With Python the variance can be calculated with the function `var( )` of the **numpy** module. Let's do that for the whole data"
   ]
  },
  {
   "cell_type": "code",
   "execution_count": 23,
   "metadata": {},
   "outputs": [
    {
     "name": "stdout",
     "output_type": "stream",
     "text": [
      "30.34167863693015\n"
     ]
    }
   ],
   "source": [
    "variance = np.var(inv_mass)\n",
    "print(variance)"
   ]
  },
  {
   "cell_type": "markdown",
   "metadata": {},
   "source": [
    "## Standard deviation $\\sigma$\n",
    "\n",
    "Because the standard deviation is the square root of the variance, we can calculate the standard deviation with the function `sqrt( )` of the **numpy** module. The function `sqrt( )` calculates the square root for the given value. Once again for the whole data we get"
   ]
  },
  {
   "cell_type": "code",
   "execution_count": 24,
   "metadata": {},
   "outputs": [
    {
     "name": "stdout",
     "output_type": "stream",
     "text": [
      "5.508328116309898\n"
     ]
    }
   ],
   "source": [
    "sd = np.sqrt(variance)\n",
    "print(sd)"
   ]
  },
  {
   "cell_type": "markdown",
   "metadata": {},
   "source": [
    "# Selecting the amount of data\n",
    "\n",
    "The code below asks how many events will be selected to the histogram. After that the code plots the histogram of the selected invariant masses.\n",
    "\n",
    "Examine how the amount of the data used affects to the histogram. Which values of the invariant mass there seems to be most? What you can conclude from those values?\n",
    "By examining the code predict what will happen if you enter a number bigger than 475465 for the asked amount of data. Try your prediction by running the code."
   ]
  },
  {
   "cell_type": "code",
   "execution_count": 25,
   "metadata": {},
   "outputs": [],
   "source": [
    "# Create a Series structure (basically a list) and name it to \"invariant_mass\".\n",
    "# Save the column \"M\" from the \"dataset\" to the variable \"invariant_mass\".\n",
    "invariant_mass = dataset['M']\n",
    "\n",
    "# Create an empty list \"selected\", where the selected amount of invariant masses will be saved.\n",
    "selected = []"
   ]
  },
  {
   "cell_type": "code",
   "execution_count": 41,
   "metadata": {},
   "outputs": [
    {
     "name": "stdout",
     "output_type": "stream",
     "text": [
      "Enter the amount of events wanted: 100000\n",
      "\n",
      " You selected 100000 invariant mass values from the whole data.\n"
     ]
    },
    {
     "data": {
      "image/png": "[encoded data removed]",
      "text/plain": [
       "<Figure size 432x288 with 1 Axes>"
      ]
     },
     "metadata": {
      "needs_background": "light"
     },
     "output_type": "display_data"
    }
   ],
   "source": [
    "# Ask user to enter the number of events wanted. Save the number to variable \"amount\".\n",
    "amount = int(input('Enter the amount of events wanted: '))\n",
    "\n",
    "# Check if user have selected more events than there are available.\n",
    "# If not select that amount of invariant masses from the variable \"invariant_mass\".\n",
    "# Masses will be selected in order.\n",
    "if amount > 475465:\n",
    "    print('''You have tried to select more data than there are available in the file.\n",
    "The histogram couldn't be drawn. The maximum amount of the data is 10851.''')\n",
    "else:\n",
    "    for f in range(amount):\n",
    "        M = invariant_mass[f]\n",
    "        selected.append(M)\n",
    "    print('\\n You selected {} invariant mass values from the whole data.'.format(amount))\n",
    "\n",
    "# Jupyter Notebook uses \"magic functions\". With this function it is possible to plot\n",
    "# the histogram straight to notebook.\n",
    "%matplotlib inline\n",
    "\n",
    "# Create the histogram from data in variable \"selected\". Set bins and range to histogram.\n",
    "plt.hist(selected, bins=120, range=(60,120))\n",
    "\n",
    "# Set y-axis from 0 to 800.\n",
    "axes = plt.gca()\n",
    "axes.set_ylim([0,800])\n",
    "\n",
    "# Name the axises and give the title.\n",
    "plt.xlabel('Invariant mass [GeV]')\n",
    "plt.ylabel('Number of events')\n",
    "plt.title('Histogram of invariant masses of two muons\\n')\n",
    "\n",
    "# Empty the variable \"selected\" for the next run.\n",
    "selected = []"
   ]
  },
  {
   "cell_type": "markdown",
   "metadata": {},
   "source": [
    "## Evolving of the histogram when the amount of data increases\n",
    "\n",
    "Let's observe with series of images how the histogram will change when the amount of data are increased.\n",
    "\n",
    "The code below will create 10 different histograms of invariant masses from the same data. Between every image 50000 more values of invariant masses are taken to the histogram."
   ]
  },
  {
   "cell_type": "code",
   "execution_count": 44,
   "metadata": {},
   "outputs": [
    {
     "data": {
      "image/png": "[encoded data removed]",
      "text/plain": [
       "<Figure size 432x288 with 1 Axes>"
      ]
     },
     "metadata": {
      "needs_background": "light"
     },
     "output_type": "display_data"
    },
    {
     "data": {
      "image/png": "[encoded data removed]",
      "text/plain": [
       "<Figure size 432x288 with 1 Axes>"
      ]
     },
     "metadata": {
      "needs_background": "light"
     },
     "output_type": "display_data"
    },
    {
     "data": {
      "image/png": "[encoded data removed]",
      "text/plain": [
       "<Figure size 432x288 with 1 Axes>"
      ]
     },
     "metadata": {
      "needs_background": "light"
     },
     "output_type": "display_data"
    },
    {
     "data": {
      "image/png": "[encoded data removed]",
      "text/plain": [
       "<Figure size 432x288 with 1 Axes>"
      ]
     },
     "metadata": {
      "needs_background": "light"
     },
     "output_type": "display_data"
    },
    {
     "data": {
      "image/png": "[encoded data removed]",
      "text/plain": [
       "<Figure size 432x288 with 1 Axes>"
      ]
     },
     "metadata": {
      "needs_background": "light"
     },
     "output_type": "display_data"
    },
    {
     "data": {
      "image/png": "[encoded data removed]",
      "text/plain": [
       "<Figure size 432x288 with 1 Axes>"
      ]
     },
     "metadata": {
      "needs_background": "light"
     },
     "output_type": "display_data"
    },
    {
     "data": {
      "image/png": "[encoded data removed]",
      "text/plain": [
       "<Figure size 432x288 with 1 Axes>"
      ]
     },
     "metadata": {
      "needs_background": "light"
     },
     "output_type": "display_data"
    },
    {
     "data": {
      "image/png": "[encoded data removed]",
      "text/plain": [
       "<Figure size 432x288 with 1 Axes>"
      ]
     },
     "metadata": {
      "needs_background": "light"
     },
     "output_type": "display_data"
    },
    {
     "data": {
      "image/png": "[encoded data removed]",
      "text/plain": [
       "<Figure size 432x288 with 1 Axes>"
      ]
     },
     "metadata": {
      "needs_background": "light"
     },
     "output_type": "display_data"
    },
    {
     "data": {
      "image/png": "[encoded data removed]",
      "text/plain": [
       "<Figure size 432x288 with 1 Axes>"
      ]
     },
     "metadata": {
      "needs_background": "light"
     },
     "output_type": "display_data"
    }
   ],
   "source": [
    "# Loop where a new histogram is plotted after 50000 events until 450000 events have reached.\n",
    "\n",
    "for a in range(0,475465,50000):\n",
    "    T = invariant_mass[0:a]\n",
    "    \n",
    "    %matplotlib inline\n",
    "    plt.hist(T, bins=120, range=(60,120))\n",
    "    \n",
    "    # Set y-axis from 0 to 800.\n",
    "    axes = plt.gca()\n",
    "    axes.set_ylim([0,2500])\n",
    "    \n",
    "    plt.xlabel('Invariant mass [GeV]')\n",
    "    plt.ylabel('Number of events')\n",
    "    plt.title('Histogram of invariant masses of two muons for {} events\\n'.format(len(T)))\n",
    "    plt.show()"
   ]
  },
  {
   "cell_type": "markdown",
   "metadata": {},
   "source": [
    "# Plotting the invariant mass histogram\n",
    "\n",
    "Let's prepare the histogram. "
   ]
  },
  {
   "cell_type": "code",
   "execution_count": null,
   "metadata": {},
   "outputs": [],
   "source": [
    "# Set the amount of bins to the histogram.\n",
    "nr_bins = 500"
   ]
  },
  {
   "cell_type": "markdown",
   "metadata": {},
   "source": [
    "## Plotting the histogram without the weights"
   ]
  },
  {
   "cell_type": "code",
   "execution_count": 29,
   "metadata": {},
   "outputs": [
    {
     "data": {
      "image/png": "[encoded data removed]",
      "text/plain": [
       "<Figure size 432x288 with 1 Axes>"
      ]
     },
     "metadata": {
      "needs_background": "light"
     },
     "output_type": "display_data"
    }
   ],
   "source": [
    "plt.hist(invariant_mass_log, bins=nr_bins, range=(-0.5,2.5))\n",
    "\n",
    "plt.yscale('log')\n",
    "plt.show()"
   ]
  },
  {
   "cell_type": "markdown",
   "metadata": {},
   "source": [
    "## Plotting the histogram with the weights"
   ]
  },
  {
   "cell_type": "code",
   "execution_count": 35,
   "metadata": {},
   "outputs": [
    {
     "data": {
      "image/png": "[encoded data removed]",
      "text/plain": [
       "<Figure size 432x288 with 1 Axes>"
      ]
     },
     "metadata": {
      "needs_background": "light"
     },
     "output_type": "display_data"
    }
   ],
   "source": [
    "weights = [nr_bins/np.log(10)/invariant_mass for invariant_mass in invariant_mass]\n",
    "\n",
    "# Take log10 from all of the values in \"invariant_mass\".\n",
    "invariant_mass_log = np.log10(invariant_mass)\n",
    "\n",
    "# Plot the histogram with the plt.hist()-function of the matplotlib.pyplot module.\n",
    "# \"bins\" determines the number of bins used, \"range\" determines the limits of the x-axis\n",
    "# and \"weights\" determines the weights to the histogram.\n",
    "plt.hist(invariant_mass_log, bins=nr_bins, range=(-0.5,2.5), weights=weights)\n",
    "\n",
    "# Set y-axis to logarithmic.\n",
    "plt.yscale('log')\n",
    "plt.show()"
   ]
  },
  {
   "cell_type": "markdown",
   "metadata": {},
   "source": [
    "# The effect of the pseudorapidity $\\eta$ to the resolution of the CMS detector\n",
    "\n",
    "In this excercise the CMS (Compact Muon Solenoid) detector and the concept of pseudorapidity is introduced. With the real data collected by CMS detector the effect of the pseudorapidity to the resolution of the CMS detector is observed.\n",
    "\n",
    "## Pseudorapidity\n",
    "\n",
    "In experimental particle physics pseudorapidity $\\eta$ is a spatial coordinate used to describe the angle between a particle and the particle beam. Pseudorapidity is determined by the equation\n",
    "\n",
    "$$ \\eta \\equiv -\\ln(\\tan(\\frac{\\theta}{2})), $$\n",
    "\n",
    "where $\\theta$ is the angle of a particle relative to the particle beam.\n",
    "\n",
    "Pseudorapidity thus describes the angle between a detected particle and the particle beam. In the image below the particle beam would go horizontally from left to right. So with the large values of $\\eta$ a particle created in the collision would differ just a little from the direction of the beam. With the small values of $\\eta$ the deflection is bigger.\n",
    "\n",
    "<img src=\"../Images/Pseudorapidity_plot.png\" alt=\"Image of pseudorapidity values\" style=\"height: 200px\">\n",
    "\n",
    "(Image: Wikimedia user Mets501, Own work, CC BY-SA 3.0, https://commons.wikimedia.org/w/index.php?curid=20392149)\n",
    "<br>\n",
    "<br>\n",
    "<br>\n",
    "\n",
    "## The effect of pseudorapidity to the resolution of the measurement\n",
    "\n",
    "With the CMS detector for example momenta of particles can be measured. Pseudorapidity $\\eta$ affects to the resolution of the measurement of momenta. The particles that hit in the middle part of the detector (in the barrel) can be measured more accurate than the particles that hit in the end of the detector (in the endcap).\n",
    "\n",
    "The reason for that is probably that the particles that have flown to the endcap have encountered more other matter (other particles) than the particles hit in the barrel. The interaction with other matter will cause inaccuracy to the measurements of the particles hit in the endcap.\n",
    "\n",
    "In the image below there is a draft of the two particles created in the collision event. One hits the barrel of the detector and another hits the endcap. There are also the values of pseudorapidities $\\eta$ and the angles $\\theta$ of the particles.\n",
    "\n",
    "<img src=\"../Images/Sylinder.png\" alt=\"Draft of the CMS detector\" style=\"height: 300px\">"
   ]
  },
  {
   "cell_type": "markdown",
   "metadata": {},
   "source": [
    "### Selecting the events\n",
    "\n",
    "First we will select from all the events into two groups the events where the pseudorapidity of the two muons have been relatively large (e.g.  $\\eta$ > 1.52) and relatively small (e.g.  $\\eta$ < 0.45). The selection is made with the code below. We want about the same amount of events to both groups so that the comparison could be done.\n",
    "Perform the selection by running the code below. "
   ]
  },
  {
   "cell_type": "code",
   "execution_count": 31,
   "metadata": {},
   "outputs": [
    {
     "name": "stdout",
     "output_type": "stream",
     "text": [
      "\n",
      "\n",
      "\n",
      "The amount of all events = 475465\n",
      "The amount of events where the pseudorapidity of both muons has been large = 34263\n",
      "The amount of events where the pseudorapidity of both muons has been small = 45661\n"
     ]
    }
   ],
   "source": [
    "# Set the conditions to large and small etas. These can be changed, but it has to be taken\n",
    "# care that about the same amount of events are selected in both groups.\n",
    "cond1 = 1.52\n",
    "cond2 = 0.45\n",
    "\n",
    "# Create two DataFrames. Select to \"large_etas\" events where the pseudorapidities\n",
    "# of the both muons are larger than \"cond1\". Select to \"small_etas\" events where\n",
    "# the pseudorapidities of the both muons are smaller than \"cond2\".\n",
    "large_etas = dataset[(np.absolute(dataset.eta1) > cond1) & (np.absolute(dataset.eta2) > cond1)]\n",
    "small_etas = dataset[(np.absolute(dataset.eta1) < cond2) & (np.absolute(dataset.eta2) < cond2)]\n",
    "\n",
    "# Print two empty lines for better design.\n",
    "print('\\n' * 2)\n",
    "\n",
    "print('The amount of all events = %d' % len(dataset))\n",
    "print('The amount of events where the pseudorapidity of both muons has been large = %d' %len(large_etas))\n",
    "print('The amount of events where the pseudorapidity of both muons has been small = %d' %len(small_etas))"
   ]
  },
  {
   "cell_type": "markdown",
   "metadata": {},
   "source": [
    "### Creating the histograms\n",
    "\n",
    "Next we will create the separate histograms of the invariant masses for the events with the large pseudorapidities and with the small pseudorapidities. With the histograms we can compare these two situations.\n",
    "\n",
    "#### Histogram for the large $\\eta$ events \n",
    "\n",
    "Let's start with the events where the pseudorapidity of both of the muons has been large."
   ]
  },
  {
   "cell_type": "code",
   "execution_count": 32,
   "metadata": {},
   "outputs": [
    {
     "data": {
      "image/png": "[encoded data removed]",
      "text/plain": [
       "<Figure size 432x288 with 1 Axes>"
      ]
     },
     "metadata": {
      "needs_background": "light"
     },
     "output_type": "display_data"
    }
   ],
   "source": [
    "# Save the invariant masses to variable \"inv_mass1\".\n",
    "inv_mass1 = large_etas['M']\n",
    "\n",
    "# Create the histogram from data in variable \"inv_mass1\". Set bins and range.\n",
    "plt.hist(inv_mass1, bins=120, range=(60,120))\n",
    "\n",
    "# Set y-axis range from 0 to 60.\n",
    "axes = plt.gca()\n",
    "axes.set_ylim([0,150])\n",
    "\n",
    "# Name the axises and give a title.\n",
    "plt.xlabel('Invariant mass [GeV]')\n",
    "plt.ylabel('Number of events per bin')\n",
    "plt.title('Histogram of invariant masses for the events where the\\n pseudorapidity of both of the muons has been large\\n')\n",
    "plt.show()"
   ]
  },
  {
   "cell_type": "markdown",
   "metadata": {},
   "source": [
    "#### Histogram for the small $\\eta$ events\n",
    "\n",
    "Analogously than above, let's plot the histogram of the invariant masses for the events where the pseudorapidity of both of the muons has been small."
   ]
  },
  {
   "cell_type": "code",
   "execution_count": 33,
   "metadata": {},
   "outputs": [
    {
     "data": {
      "image/png": "[encoded data removed]",
      "text/plain": [
       "<Figure size 432x288 with 1 Axes>"
      ]
     },
     "metadata": {
      "needs_background": "light"
     },
     "output_type": "display_data"
    }
   ],
   "source": [
    "# Save the invariant masses to variable \"inv_mass2\".\n",
    "inv_mass2 = small_etas['M']\n",
    "\n",
    "# Create the histogram from data in variable \"inv_mass1\". Set bins and range.\n",
    "plt.hist(inv_mass2, bins=120, range=(60,120))\n",
    "\n",
    "# Set y-axis range from 0 to 60.\n",
    "axes = plt.gca()\n",
    "axes.set_ylim([0,200])\n",
    "\n",
    "# Name the axises and give a title.\n",
    "plt.xlabel('Invariant mass [GeV]')\n",
    "plt.ylabel('Number of events per bin')\n",
    "plt.title('Histogram of invariant masses for the events where the\\n pseudorapidity of both of the muons has been small\\n')\n",
    "plt.show()"
   ]
  },
  {
   "cell_type": "markdown",
   "metadata": {},
   "source": [
    "# Exercises\n",
    "\n",
    "Now we have created from the real CMS data the two histograms of the invariant masses. With the help of the histograms and the theory part of the notebook think about the following questions:\n",
    "\n",
    "__Question 1)__ In which way you can see the effect of the pseudorapidity to the measurement resolution of the CMS detector?\n",
    "\n",
    "__Question 2)__ Do your results show the same than the theory predicts?\n",
    "\n",
    "After answering to the questions you can try to change the conditions for the large and small pseudorapidities in the first code cell. The conditions are named _cond1_ and _cond2_. Make sure you choose conditions in a way that there will be nearly same amount of events in both of the groups.\n",
    "\n",
    "__Question 3)__ After the changes run the code again. How do the changes affect to the number of the events? And how to the histograms?\n",
    "\n",
    "__Question 4)__ Write a function that represents Breit-Wigner distribution to the values of the histogram. \n",
    "\n",
    "To get information about mass and lifetime of the detected resonance, a function that describes the distribution of the invariant masses must be fitted to the values of the histogram. In our case the values follow a Breit-Wigner distribution:\n",
    "\n",
    "$$\n",
    "N(E) = \\frac{K}{(E-M)^2 + \\frac{\\Gamma^2}{4}},\n",
    "$$\n",
    "\n",
    "where $E$ is the energy, $M$ the maximum of the distribution (equals to the mass of the particle that is detected in the resonance), $\\Gamma$ the full width at half maximum (FWHM) or the decay width of the distribution and $K$ a constant.\n",
    "\n",
    "The Breit-Wigner distribution can also be expressed in the following form:\n",
    "\n",
    "$$\n",
    "\\frac{ \\frac{2\\sqrt{2}M\\Gamma\\sqrt{M^2(M^2+\\Gamma^2)} }{\\pi\\sqrt{M^2+\\sqrt{M^2(M^2+\\Gamma^2)}}} }{(E^2-M^2)^2 + M^2\\Gamma^2},\n",
    "$$\n",
    "\n",
    "where the constant $K$ is written open.\n",
    "\n",
    "The decay width $\\Gamma$ and the lifetime $\\tau$ of the particle detected in the resonance are related in the following way:\n",
    "\n",
    "$$\n",
    "\\Gamma \\equiv \\frac{\\hbar}{\\tau},\n",
    "$$\n",
    "\n",
    "where $\\hbar$ is the reduced Planck's constant.\n",
    "\n",
    "__Question 5)__ Calculate the lifetime $\\tau$ of the Z boson with the uncertainty by using the fit. Compare the calculated value to the known lifetime of the Z. What do you notice? What could possibly explain your observations?"
   ]
  },
  {
   "cell_type": "code",
   "execution_count": null,
   "metadata": {},
   "outputs": [],
   "source": []
  }
 ],
 "metadata": {
  "kernelspec": {
   "display_name": "Python 3",
   "language": "python",
   "name": "python3"
  },
  "language_info": {
   "codemirror_mode": {
    "name": "ipython",
    "version": 3
   },
   "file_extension": ".py",
   "mimetype": "text/x-python",
   "name": "python",
   "nbconvert_exporter": "python",
   "pygments_lexer": "ipython3",
   "version": "3.9.0"
  }
 },
 "nbformat": 4,
 "nbformat_minor": 4
}
